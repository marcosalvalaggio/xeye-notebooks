{
 "cells": [
  {
   "cell_type": "markdown",
   "metadata": {},
   "source": [
    "## Cpu implementation of convolutional neural network for a trivial binary classification model with Pytorch "
   ]
  },
  {
   "cell_type": "code",
   "execution_count": 1,
   "metadata": {},
   "outputs": [],
   "source": [
    "from torch.utils.data import Dataset, DataLoader\n",
    "import torch\n",
    "import torch.nn as nn\n",
    "import numpy as np\n",
    "from torch.optim import SGD\n",
    "import torchvision\n",
    "import matplotlib.pyplot as plt\n",
    "%matplotlib inline\n",
    "from sklearn.metrics import confusion_matrix, classification_report"
   ]
  },
  {
   "cell_type": "markdown",
   "metadata": {},
   "source": [
    "### Upload the dataset "
   ]
  },
  {
   "cell_type": "code",
   "execution_count": 3,
   "metadata": {},
   "outputs": [
    {
     "data": {
      "text/plain": [
       "['X_train', 'X_test', 'y_train', 'y_test']"
      ]
     },
     "execution_count": 3,
     "metadata": {},
     "output_type": "execute_result"
    }
   ],
   "source": [
    "data = np.load('/Users/marcosalvalaggio/Desktop/TrivialBinaryClassification.npz')\n",
    "data.files"
   ]
  },
  {
   "cell_type": "code",
   "execution_count": 4,
   "metadata": {},
   "outputs": [],
   "source": [
    "X_train = data['X_train']\n",
    "X_test = data['X_test']\n",
    "y_train = data['y_train']\n",
    "y_test = data['y_test']"
   ]
  },
  {
   "cell_type": "code",
   "execution_count": 5,
   "metadata": {},
   "outputs": [
    {
     "name": "stdout",
     "output_type": "stream",
     "text": [
      "X_train dataset shape: (1600, 100, 100)\n",
      "X_test dataset shape: (400, 100, 100)\n"
     ]
    }
   ],
   "source": [
    "# Dataset dimensions (num of images, height, width)\n",
    "print(f'X_train dataset shape: {X_train.shape}')\n",
    "print(f'X_test dataset shape: {X_test.shape}')"
   ]
  },
  {
   "cell_type": "code",
   "execution_count": 6,
   "metadata": {},
   "outputs": [
    {
     "name": "stdout",
     "output_type": "stream",
     "text": [
      "(1600,)\n",
      "(400,)\n"
     ]
    }
   ],
   "source": [
    "# Labels \n",
    "print(y_train.shape)\n",
    "print(y_test.shape)"
   ]
  },
  {
   "cell_type": "markdown",
   "metadata": {},
   "source": [
    "### Visualize a single image from train dataset "
   ]
  },
  {
   "cell_type": "code",
   "execution_count": 9,
   "metadata": {},
   "outputs": [
    {
     "data": {
      "text/plain": [
       "(-0.5, 99.5, 99.5, -0.5)"
      ]
     },
     "execution_count": 9,
     "metadata": {},
     "output_type": "execute_result"
    },
    {
     "data": {
      "image/png": "[encoded data removed]",
      "text/plain": [
       "<Figure size 288x288 with 1 Axes>"
      ]
     },
     "metadata": {
      "needs_background": "light"
     },
     "output_type": "display_data"
    }
   ],
   "source": [
    "plt.matshow(X_train[100],cmap='gray')\n",
    "plt.axis('off')"
   ]
  },
  {
   "cell_type": "markdown",
   "metadata": {},
   "source": [
    "Schema for map y values to category labels:\n",
    "\n",
    "* keyboard = 0\n",
    "* mouse = 1 "
   ]
  },
  {
   "cell_type": "code",
   "execution_count": 10,
   "metadata": {},
   "outputs": [
    {
     "name": "stdout",
     "output_type": "stream",
     "text": [
      "X_train[100]: 0\n",
      "Label for X_train[100]: keyboard\n"
     ]
    }
   ],
   "source": [
    "print(f'X_train[100]: {y_train[100]}')\n",
    "print(f'Label for X_train[100]: keyboard')"
   ]
  },
  {
   "cell_type": "markdown",
   "metadata": {},
   "source": [
    "### Preprocessing "
   ]
  },
  {
   "cell_type": "code",
   "execution_count": 11,
   "metadata": {},
   "outputs": [],
   "source": [
    "#Min-max feature scaling = values of single pixel between [0,1] instead of [0 = black , 255 = white]\n",
    "X_train = X_train / 255\n",
    "X_test = X_test / 255"
   ]
  },
  {
   "cell_type": "code",
   "execution_count": 12,
   "metadata": {},
   "outputs": [
    {
     "data": {
      "text/plain": [
       "array([[0.00392157, 0.00392157, 0.00392157, ..., 0.41176471, 0.4       ,\n",
       "        0.30588235],\n",
       "       [0.00392157, 0.00392157, 0.00392157, ..., 0.41960784, 0.40392157,\n",
       "        0.31764706],\n",
       "       [0.01176471, 0.00784314, 0.00392157, ..., 0.42745098, 0.41568627,\n",
       "        0.31764706],\n",
       "       ...,\n",
       "       [0.01960784, 0.12941176, 0.60392157, ..., 0.64313725, 0.63137255,\n",
       "        0.63529412],\n",
       "       [0.00784314, 0.00784314, 0.14117647, ..., 0.63529412, 0.63137255,\n",
       "        0.62745098],\n",
       "       [0.09411765, 0.00784314, 0.00784314, ..., 0.63137255, 0.62745098,\n",
       "        0.62745098]])"
      ]
     },
     "execution_count": 12,
     "metadata": {},
     "output_type": "execute_result"
    }
   ],
   "source": [
    "# First train dataset image scaled \n",
    "X_train[0,:,:]"
   ]
  },
  {
   "cell_type": "markdown",
   "metadata": {},
   "source": [
    "### Converting into Torch tensors and select the device (cpu or gpu)"
   ]
  },
  {
   "cell_type": "code",
   "execution_count": 13,
   "metadata": {},
   "outputs": [],
   "source": [
    "# Conversion \n",
    "X_train_t = torch.tensor(X_train).float()\n",
    "y_train_t = torch.tensor(y_train).float()\n",
    "# Select available device \n",
    "device = 'cuda' if torch.cuda.is_available() else 'cpu'\n",
    "# pass the objects into the device selected\n",
    "X_train_t = X_train_t.to(device)\n",
    "y_train_t = y_train_t.to(device)"
   ]
  },
  {
   "cell_type": "code",
   "execution_count": 14,
   "metadata": {},
   "outputs": [
    {
     "name": "stdout",
     "output_type": "stream",
     "text": [
      "X_train Torch tensor: torch.Size([1600, 100, 100])\n",
      "y_train Torch tensor: torch.Size([1600])\n"
     ]
    }
   ],
   "source": [
    "print(f'X_train Torch tensor: {X_train_t.shape}')\n",
    "print(f'y_train Torch tensor: {y_train_t.shape}')"
   ]
  },
  {
   "cell_type": "markdown",
   "metadata": {},
   "source": [
    "need to obtain an object of dimension [-1,1,100,100]"
   ]
  },
  {
   "cell_type": "markdown",
   "metadata": {},
   "source": [
    "### Defining dataset class"
   ]
  },
  {
   "cell_type": "code",
   "execution_count": 15,
   "metadata": {},
   "outputs": [],
   "source": [
    "class MyDataset(Dataset):\n",
    "    def __init__(self,x,y):\n",
    "        #self.x = torch.tensor(x).float()\n",
    "        #self.y = torch.tensor(y, dtype=torch.float)\n",
    "        self.x = x.view(-1,1,100,100)\n",
    "        self.y = y.clone().detach().requires_grad_(True)\n",
    "    def __len__(self):\n",
    "        return len(self.x)\n",
    "    def __getitem__(self, ix):\n",
    "        return self.x[ix], self.y[ix]\n",
    "# create a MyDataset object \n",
    "ds = MyDataset(X_train_t, y_train_t)"
   ]
  },
  {
   "cell_type": "markdown",
   "metadata": {},
   "source": [
    "### Create the dataloader "
   ]
  },
  {
   "cell_type": "code",
   "execution_count": 16,
   "metadata": {},
   "outputs": [],
   "source": [
    "batch_size = 800\n",
    "dl = DataLoader(ds, batch_size=batch_size, shuffle=True)"
   ]
  },
  {
   "cell_type": "markdown",
   "metadata": {},
   "source": [
    "### Define the network structure "
   ]
  },
  {
   "cell_type": "code",
   "execution_count": 17,
   "metadata": {},
   "outputs": [],
   "source": [
    "class ConvNet(nn.Module):\n",
    "    def __init__(self):\n",
    "        super().__init__()\n",
    "        self.hidd_to_conv1 = nn.Conv2d(1, 64, kernel_size=5)# (96x96x64) \n",
    "        self.maxpool1 = nn.MaxPool2d(2)#(48,48,64)\n",
    "        self.max_to_conv2 = nn.Conv2d(64,128, kernel_size=5)#(44,44,128)\n",
    "        self.maxpool2 = nn.MaxPool2d(2)#(22,22,128)\n",
    "        self.maxpool3 = nn.MaxPool2d(2)#(11,11,128)\n",
    "        self.flatten = nn.Flatten()\n",
    "        self.flatten_to_linear = nn.Linear(15488,100)\n",
    "        self.hidden_layer_activation = nn.ReLU()\n",
    "        self.hidden_to_output_layer = nn.Linear(100,1)\n",
    "\n",
    "    def forward(self, x):\n",
    "        x = self.hidd_to_conv1(x)\n",
    "        x = self.maxpool1(x)\n",
    "        x = self.max_to_conv2(x)\n",
    "        x = self.maxpool2(x)\n",
    "        x = self.maxpool3(x)\n",
    "        x = self.flatten(x)\n",
    "        x = self.flatten_to_linear(x)\n",
    "        x = self.hidden_layer_activation(x)\n",
    "        x = torch.sigmoid(self.hidden_to_output_layer(x))\n",
    "        return x\n",
    "\n",
    "\n",
    "mynet = ConvNet().to(device)"
   ]
  },
  {
   "cell_type": "markdown",
   "metadata": {},
   "source": [
    "### Forward pass on the untrained network"
   ]
  },
  {
   "cell_type": "code",
   "execution_count": 19,
   "metadata": {},
   "outputs": [
    {
     "name": "stdout",
     "output_type": "stream",
     "text": [
      "1) size of the image: torch.Size([1, 1, 100, 100])\n",
      "2) label of the image: 0.0 = keyboard\n",
      "3) value of the output node of the network: tensor([[0.5035]], grad_fn=<SigmoidBackward0>)\n",
      "4) predicted class: tensor([[1.]], grad_fn=<RoundBackward0>) = mouse\n"
     ]
    }
   ],
   "source": [
    "img = X_train_t[1].view(-1,1,100,100)\n",
    "print(f'1) size of the image: {img.size()}')\n",
    "print(f'2) label of the image: {y_train_t[1]} = keyboard')\n",
    "print(f'3) value of the output node of the network: {mynet(img)}')\n",
    "print(f'4) predicted class: {torch.round((mynet(img)))} = mouse') # wrong prediction "
   ]
  },
  {
   "cell_type": "markdown",
   "metadata": {},
   "source": [
    "### Define objective function and upgrade weights method "
   ]
  },
  {
   "cell_type": "code",
   "execution_count": 20,
   "metadata": {},
   "outputs": [],
   "source": [
    "loss_func = nn.BCELoss()\n",
    "opt = SGD(mynet.parameters(), lr = 0.001)\n",
    "epochs = 3"
   ]
  },
  {
   "cell_type": "markdown",
   "metadata": {},
   "source": [
    "### Training loop"
   ]
  },
  {
   "cell_type": "code",
   "execution_count": 21,
   "metadata": {},
   "outputs": [],
   "source": [
    "def accuracy_val(y_pred, y_val):\n",
    "\n",
    "    y_pred_tag = np.array(y_pred.reshape(-1).detach()).round()\n",
    "    y_val = np.array(y_val.detach())\n",
    "\n",
    "    correct_results = np.sum(y_pred_tag == y_val)\n",
    "    acc = correct_results/y_val.shape[0]\n",
    "    acc = np.round(acc * 100)\n",
    "    \n",
    "    return acc"
   ]
  },
  {
   "cell_type": "code",
   "execution_count": 23,
   "metadata": {},
   "outputs": [
    {
     "name": "stdout",
     "output_type": "stream",
     "text": [
      "===========================================================\n",
      "epoch: 1/3 | batch: 1/2 | loss: 0.6867 | accuracy: 79.0%\n",
      "epoch: 1/3 | batch: 2/2 | loss: 0.6837 | accuracy: 83.0%\n",
      "epoch: 2/3 | batch: 1/2 | loss: 0.6815 | accuracy: 85.0%\n",
      "epoch: 2/3 | batch: 2/2 | loss: 0.6790 | accuracy: 88.0%\n",
      "epoch: 3/3 | batch: 1/2 | loss: 0.6771 | accuracy: 87.0%\n",
      "epoch: 3/3 | batch: 2/2 | loss: 0.6750 | accuracy: 91.0%\n",
      "===========================================================\n"
     ]
    }
   ],
   "source": [
    "loss_history = []\n",
    "acc_history = []\n",
    "mynet.train()\n",
    "print('===========================================================')\n",
    "for _ in range(epochs):\n",
    "    numBatch = np.round(X_train_t.shape[0]/batch_size)\n",
    "    batch = 1\n",
    "    for data in dl:\n",
    "\n",
    "        x, y = data\n",
    "        opt.zero_grad()\n",
    "\n",
    "        predicted = mynet(x)\n",
    "        loss_value = loss_func(predicted, y.unsqueeze(1))\n",
    "        acc_value = accuracy_val(predicted, y)\n",
    "\n",
    "\n",
    "        loss_value.backward()\n",
    "        opt.step()\n",
    "\n",
    "        loss_history.append(loss_value)\n",
    "        acc_history.append(acc_value)\n",
    "\n",
    "        print(f'epoch: {_+1}/{int(epochs)} | batch: {batch}/{int(numBatch)} | loss: {loss_value:.4f} | accuracy: {acc_value}%')\n",
    "\n",
    "        batch += 1\n",
    "\n",
    "print('===========================================================')"
   ]
  },
  {
   "cell_type": "markdown",
   "metadata": {},
   "source": [
    "### Label prediction for a new \"virtual\" image passed to the trained model "
   ]
  },
  {
   "cell_type": "code",
   "execution_count": 24,
   "metadata": {},
   "outputs": [
    {
     "data": {
      "text/plain": [
       "<matplotlib.image.AxesImage at 0x7faa61373700>"
      ]
     },
     "execution_count": 24,
     "metadata": {},
     "output_type": "execute_result"
    },
    {
     "data": {
      "image/png": "[encoded data removed]",
      "text/plain": [
       "<Figure size 288x288 with 1 Axes>"
      ]
     },
     "metadata": {
      "needs_background": "light"
     },
     "output_type": "display_data"
    }
   ],
   "source": [
    "index = 1\n",
    "plt.matshow(X_test[index],cmap='gray')"
   ]
  },
  {
   "cell_type": "code",
   "execution_count": 25,
   "metadata": {},
   "outputs": [
    {
     "name": "stdout",
     "output_type": "stream",
     "text": [
      "X_test[index]: 1\n",
      "Label for X_test[index]: mouse\n"
     ]
    }
   ],
   "source": [
    "print(f'X_test[index]: {y_test[index]}')\n",
    "print(f'Label for X_test[index]: mouse')"
   ]
  },
  {
   "cell_type": "code",
   "execution_count": 26,
   "metadata": {},
   "outputs": [],
   "source": [
    "# Conversion \n",
    "X_test_t = torch.tensor(X_test).float()\n",
    "y_test_t = torch.tensor(y_test).float()\n",
    "# Select available device \n",
    "device = 'cuda' if torch.cuda.is_available() else 'cpu'\n",
    "# pass the objects into the device selected\n",
    "X_test_t = X_test_t.to(device)\n",
    "y_test_t = y_test_t.to(device)"
   ]
  },
  {
   "cell_type": "code",
   "execution_count": 27,
   "metadata": {},
   "outputs": [
    {
     "data": {
      "text/plain": [
       "1"
      ]
     },
     "execution_count": 27,
     "metadata": {},
     "output_type": "execute_result"
    }
   ],
   "source": [
    "# label\n",
    "y_test[1]"
   ]
  },
  {
   "cell_type": "code",
   "execution_count": 28,
   "metadata": {},
   "outputs": [
    {
     "data": {
      "text/plain": [
       "tensor([[0.5219]], grad_fn=<SigmoidBackward0>)"
      ]
     },
     "execution_count": 28,
     "metadata": {},
     "output_type": "execute_result"
    }
   ],
   "source": [
    "# prediction \n",
    "img = X_test_t[1].view(-1,1,100,100)\n",
    "output = mynet(img)\n",
    "output"
   ]
  },
  {
   "cell_type": "code",
   "execution_count": 29,
   "metadata": {},
   "outputs": [
    {
     "data": {
      "text/plain": [
       "tensor([[1.]], grad_fn=<RoundBackward0>)"
      ]
     },
     "execution_count": 29,
     "metadata": {},
     "output_type": "execute_result"
    }
   ],
   "source": [
    "# label predicted\n",
    "torch.round(mynet(img))"
   ]
  },
  {
   "cell_type": "markdown",
   "metadata": {},
   "source": [
    "### Prediction on Test dataset "
   ]
  },
  {
   "cell_type": "code",
   "execution_count": 30,
   "metadata": {},
   "outputs": [
    {
     "data": {
      "text/plain": [
       "torch.Size([400, 100, 100])"
      ]
     },
     "execution_count": 30,
     "metadata": {},
     "output_type": "execute_result"
    }
   ],
   "source": [
    "X_test_t.shape"
   ]
  },
  {
   "cell_type": "code",
   "execution_count": 31,
   "metadata": {},
   "outputs": [],
   "source": [
    "X_test_t_res = X_test_t.view(400,1,100,100)"
   ]
  },
  {
   "cell_type": "code",
   "execution_count": 32,
   "metadata": {},
   "outputs": [
    {
     "data": {
      "text/plain": [
       "torch.Size([400, 1, 100, 100])"
      ]
     },
     "execution_count": 32,
     "metadata": {},
     "output_type": "execute_result"
    }
   ],
   "source": [
    "X_test_t_res.shape"
   ]
  },
  {
   "cell_type": "code",
   "execution_count": 33,
   "metadata": {},
   "outputs": [],
   "source": [
    "pred = mynet(X_test_t_res)"
   ]
  },
  {
   "cell_type": "code",
   "execution_count": 34,
   "metadata": {},
   "outputs": [],
   "source": [
    "pred = torch.round(pred)"
   ]
  },
  {
   "cell_type": "code",
   "execution_count": 35,
   "metadata": {},
   "outputs": [
    {
     "data": {
      "text/plain": [
       "torch.Size([400, 1])"
      ]
     },
     "execution_count": 35,
     "metadata": {},
     "output_type": "execute_result"
    }
   ],
   "source": [
    "pred.shape"
   ]
  },
  {
   "cell_type": "code",
   "execution_count": 36,
   "metadata": {},
   "outputs": [
    {
     "name": "stdout",
     "output_type": "stream",
     "text": [
      "(400,)\n",
      "(400,)\n"
     ]
    }
   ],
   "source": [
    "y_pred_test_tag = np.array(pred.reshape(-1).detach()).round()\n",
    "print(y_pred_test_tag.shape)\n",
    "y_val_test = np.array(y_test_t.detach())\n",
    "print(y_val_test.shape)"
   ]
  },
  {
   "cell_type": "code",
   "execution_count": 37,
   "metadata": {},
   "outputs": [
    {
     "data": {
      "text/plain": [
       "array([[166,  41],\n",
       "       [  0, 193]])"
      ]
     },
     "execution_count": 37,
     "metadata": {},
     "output_type": "execute_result"
    }
   ],
   "source": [
    "confusion_matrix(y_val_test, y_pred_test_tag)"
   ]
  },
  {
   "cell_type": "code",
   "execution_count": 38,
   "metadata": {},
   "outputs": [
    {
     "name": "stdout",
     "output_type": "stream",
     "text": [
      "              precision    recall  f1-score   support\n",
      "\n",
      "         0.0       1.00      0.80      0.89       207\n",
      "         1.0       0.82      1.00      0.90       193\n",
      "\n",
      "    accuracy                           0.90       400\n",
      "   macro avg       0.91      0.90      0.90       400\n",
      "weighted avg       0.92      0.90      0.90       400\n",
      "\n"
     ]
    }
   ],
   "source": [
    "print(classification_report(y_val_test, y_pred_test_tag))"
   ]
  }
 ],
 "metadata": {
  "kernelspec": {
   "display_name": "Python 3 (ipykernel)",
   "language": "python",
   "name": "python3"
  },
  "language_info": {
   "codemirror_mode": {
    "name": "ipython",
    "version": 3
   },
   "file_extension": ".py",
   "mimetype": "text/x-python",
   "name": "python",
   "nbconvert_exporter": "python",
   "pygments_lexer": "ipython3",
   "version": "3.9.12"
  },
  "vscode": {
   "interpreter": {
    "hash": "15e176b7a587bacf763a05742bf3c7db92d21fd4b7733f76dbff0ddb1181ff96"
   }
  }
 },
 "nbformat": 4,
 "nbformat_minor": 4
}
