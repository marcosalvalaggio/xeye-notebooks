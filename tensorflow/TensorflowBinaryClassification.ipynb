{
 "cells": [
  {
   "cell_type": "markdown",
   "metadata": {},
   "source": [
    "## Cpu implementation of feed forward neural network for a trivial binary classification model with tensorflow"
   ]
  },
  {
   "cell_type": "code",
   "execution_count": 2,
   "metadata": {},
   "outputs": [],
   "source": [
    "import tensorflow as tf \n",
    "import numpy as np \n",
    "import matplotlib.pyplot as plt \n",
    "%matplotlib inline\n",
    "import seaborn as sn\n",
    "import os; os.environ['TF_CPP_MIN_LOG_LEVEL'] = '1'"
   ]
  },
  {
   "cell_type": "markdown",
   "metadata": {},
   "source": [
    "### Upload the dataset "
   ]
  },
  {
   "cell_type": "code",
   "execution_count": 3,
   "metadata": {},
   "outputs": [
    {
     "data": {
      "text/plain": [
       "['X_train', 'X_test', 'y_train', 'y_test']"
      ]
     },
     "execution_count": 3,
     "metadata": {},
     "output_type": "execute_result"
    }
   ],
   "source": [
    "data = np.load('/Users/marcosalvalaggio/code/xeye/notebooks/data/TrivialBinaryClassification.npz')\n",
    "data.files"
   ]
  },
  {
   "cell_type": "code",
   "execution_count": 4,
   "metadata": {},
   "outputs": [],
   "source": [
    "X_train = data['X_train']\n",
    "X_test = data['X_test']\n",
    "y_train = data['y_train']\n",
    "y_test = data['y_test']"
   ]
  },
  {
   "cell_type": "code",
   "execution_count": 5,
   "metadata": {},
   "outputs": [
    {
     "name": "stdout",
     "output_type": "stream",
     "text": [
      "X_train dataset shape: (1600, 100, 100)\n",
      "X_test dataset shape: (400, 100, 100)\n"
     ]
    }
   ],
   "source": [
    "# Dataset dimensions (num of images, height, width)\n",
    "print(f'X_train dataset shape: {X_train.shape}')\n",
    "print(f'X_test dataset shape: {X_test.shape}')"
   ]
  },
  {
   "cell_type": "code",
   "execution_count": 6,
   "metadata": {},
   "outputs": [
    {
     "name": "stdout",
     "output_type": "stream",
     "text": [
      "(1600,)\n",
      "(400,)\n"
     ]
    }
   ],
   "source": [
    "# Labels \n",
    "print(y_train.shape)\n",
    "print(y_test.shape)"
   ]
  },
  {
   "cell_type": "markdown",
   "metadata": {},
   "source": [
    "### Visualize a single image from train dataset "
   ]
  },
  {
   "cell_type": "code",
   "execution_count": 7,
   "metadata": {},
   "outputs": [
    {
     "data": {
      "text/plain": [
       "<matplotlib.image.AxesImage at 0x7fa9063e44f0>"
      ]
     },
     "execution_count": 7,
     "metadata": {},
     "output_type": "execute_result"
    },
    {
     "data": {
      "image/png": "[encoded data removed]",
      "text/plain": [
       "<Figure size 288x288 with 1 Axes>"
      ]
     },
     "metadata": {
      "needs_background": "light"
     },
     "output_type": "display_data"
    }
   ],
   "source": [
    "plt.matshow(X_train[100],cmap='gray')"
   ]
  },
  {
   "cell_type": "markdown",
   "metadata": {},
   "source": [
    "Schema for map y values to category labels:\n",
    "\n",
    "* keyboard = 0\n",
    "* mouse = 1 "
   ]
  },
  {
   "cell_type": "code",
   "execution_count": 8,
   "metadata": {},
   "outputs": [
    {
     "name": "stdout",
     "output_type": "stream",
     "text": [
      "X_train[100]: 0\n",
      "Label for X_train[100]: keyboard\n"
     ]
    }
   ],
   "source": [
    "print(f'X_train[100]: {y_train[100]}')\n",
    "print(f'Label for X_train[100]: keyboard')"
   ]
  },
  {
   "cell_type": "markdown",
   "metadata": {},
   "source": [
    "### Preprocessing "
   ]
  },
  {
   "cell_type": "code",
   "execution_count": 9,
   "metadata": {},
   "outputs": [],
   "source": [
    "#Min-max feature scaling = values of single pixel between [0,1] instead of [0 = black , 255 = white]\n",
    "X_train = X_train / 255\n",
    "X_test = X_test / 255"
   ]
  },
  {
   "cell_type": "code",
   "execution_count": 10,
   "metadata": {},
   "outputs": [
    {
     "data": {
      "text/plain": [
       "array([[0.00392157, 0.00392157, 0.00392157, ..., 0.41176471, 0.4       ,\n",
       "        0.30588235],\n",
       "       [0.00392157, 0.00392157, 0.00392157, ..., 0.41960784, 0.40392157,\n",
       "        0.31764706],\n",
       "       [0.01176471, 0.00784314, 0.00392157, ..., 0.42745098, 0.41568627,\n",
       "        0.31764706],\n",
       "       ...,\n",
       "       [0.01960784, 0.12941176, 0.60392157, ..., 0.64313725, 0.63137255,\n",
       "        0.63529412],\n",
       "       [0.00784314, 0.00784314, 0.14117647, ..., 0.63529412, 0.63137255,\n",
       "        0.62745098],\n",
       "       [0.09411765, 0.00784314, 0.00784314, ..., 0.63137255, 0.62745098,\n",
       "        0.62745098]])"
      ]
     },
     "execution_count": 10,
     "metadata": {},
     "output_type": "execute_result"
    }
   ],
   "source": [
    "# First train dataset image scaled \n",
    "X_train[0,:,:]"
   ]
  },
  {
   "cell_type": "markdown",
   "metadata": {},
   "source": [
    "Flatteing operation is necessary in order to pass the pixel values of the image to the input layer of the feed forward neural network. "
   ]
  },
  {
   "cell_type": "code",
   "execution_count": 11,
   "metadata": {},
   "outputs": [],
   "source": [
    "# Flattening\n",
    "# dimensions = (num. of images, height x width)\n",
    "X_train_flattened = X_train.reshape(len(X_train), 100*100)\n",
    "X_test_flattened = X_test.reshape(len(X_test), 100*100)"
   ]
  },
  {
   "cell_type": "code",
   "execution_count": 12,
   "metadata": {},
   "outputs": [
    {
     "name": "stdout",
     "output_type": "stream",
     "text": [
      "X_train flattened dataset shape: (1600, 10000)\n",
      "X_test flattened dataset shape: (400, 10000)\n"
     ]
    }
   ],
   "source": [
    "print(f'X_train flattened dataset shape: {X_train_flattened.shape}')\n",
    "print(f'X_test flattened dataset shape: {X_test_flattened.shape}')"
   ]
  },
  {
   "cell_type": "markdown",
   "metadata": {},
   "source": [
    "### Simple FFNN implemenation "
   ]
  },
  {
   "cell_type": "code",
   "execution_count": 13,
   "metadata": {},
   "outputs": [],
   "source": [
    "# Hyperparameters \n",
    "output_class = 1\n",
    "input_shape = 10000 # height x width\n",
    "hidden_nodes = 10\n",
    "verbose = 1\n",
    "epochs = 5\n",
    "batch = 800"
   ]
  },
  {
   "cell_type": "code",
   "execution_count": 14,
   "metadata": {},
   "outputs": [
    {
     "name": "stdout",
     "output_type": "stream",
     "text": [
      "Model: \"sequential\"\n",
      "_________________________________________________________________\n",
      " Layer (type)                Output Shape              Param #   \n",
      "=================================================================\n",
      " dense_layer (Dense)         (None, 10)                100010    \n",
      "                                                                 \n",
      " dense_layer_2 (Dense)       (None, 1)                 11        \n",
      "                                                                 \n",
      "=================================================================\n",
      "Total params: 100,021\n",
      "Trainable params: 100,021\n",
      "Non-trainable params: 0\n",
      "_________________________________________________________________\n"
     ]
    }
   ],
   "source": [
    "# FFNN with only one hidden layer \n",
    "model = tf.keras.models.Sequential()\n",
    "model.add(tf.keras.layers.Dense(hidden_nodes, input_shape=(input_shape,), name='dense_layer', activation='relu'))\n",
    "model.add(tf.keras.layers.Dense(output_class, name='dense_layer_2', activation='sigmoid'))\n",
    "# summary of the model\n",
    "model.summary()"
   ]
  },
  {
   "cell_type": "code",
   "execution_count": 15,
   "metadata": {},
   "outputs": [],
   "source": [
    "# Specific options for the training phase: type of upgrade method of the weights in the backpropagation (e.g. SGD or adam...), and the type of loss function... \n",
    "model.compile(optimizer='SGD', loss='binary_crossentropy', metrics=['accuracy'])"
   ]
  },
  {
   "cell_type": "markdown",
   "metadata": {},
   "source": [
    "### Train the model "
   ]
  },
  {
   "cell_type": "code",
   "execution_count": 16,
   "metadata": {},
   "outputs": [
    {
     "name": "stdout",
     "output_type": "stream",
     "text": [
      "Epoch 1/5\n",
      "2/2 [==============================] - 1s 14ms/step - loss: 0.6330 - accuracy: 0.4644\n",
      "Epoch 2/5\n",
      "2/2 [==============================] - 0s 10ms/step - loss: 0.9942 - accuracy: 0.5106\n",
      "Epoch 3/5\n",
      "2/2 [==============================] - 0s 13ms/step - loss: 0.9010 - accuracy: 0.5362\n",
      "Epoch 4/5\n",
      "2/2 [==============================] - 0s 17ms/step - loss: 0.1509 - accuracy: 0.9656\n",
      "Epoch 5/5\n",
      "2/2 [==============================] - 0s 15ms/step - loss: 0.0506 - accuracy: 0.9944\n"
     ]
    },
    {
     "data": {
      "text/plain": [
       "<keras.callbacks.History at 0x7fa8f5bf5fd0>"
      ]
     },
     "execution_count": 16,
     "metadata": {},
     "output_type": "execute_result"
    }
   ],
   "source": [
    "model.fit(X_train_flattened, y_train, epochs=epochs, batch_size= batch, verbose = 1)"
   ]
  },
  {
   "cell_type": "code",
   "execution_count": 17,
   "metadata": {},
   "outputs": [
    {
     "name": "stdout",
     "output_type": "stream",
     "text": [
      "4/4 [==============================] - 0s 4ms/step - loss: 0.0462 - accuracy: 0.9975\n"
     ]
    },
    {
     "data": {
      "text/plain": [
       "0.9975000023841858"
      ]
     },
     "execution_count": 17,
     "metadata": {},
     "output_type": "execute_result"
    }
   ],
   "source": [
    "test_loss, test_acc = model.evaluate(X_test_flattened, y_test, batch_size = 128)\n",
    "test_acc"
   ]
  },
  {
   "cell_type": "markdown",
   "metadata": {},
   "source": [
    "### Prediction of a label for a new \"virtual\" image passed in input to the trained model "
   ]
  },
  {
   "cell_type": "code",
   "execution_count": 18,
   "metadata": {},
   "outputs": [
    {
     "data": {
      "text/plain": [
       "<matplotlib.image.AxesImage at 0x7fa8f6131070>"
      ]
     },
     "execution_count": 18,
     "metadata": {},
     "output_type": "execute_result"
    },
    {
     "data": {
      "image/png": "[encoded data removed]",
      "text/plain": [
       "<Figure size 288x288 with 1 Axes>"
      ]
     },
     "metadata": {
      "needs_background": "light"
     },
     "output_type": "display_data"
    }
   ],
   "source": [
    "index = 0\n",
    "plt.matshow(X_test[index],cmap='gray')"
   ]
  },
  {
   "cell_type": "code",
   "execution_count": 19,
   "metadata": {},
   "outputs": [
    {
     "name": "stdout",
     "output_type": "stream",
     "text": [
      "X_test[index]: 1\n",
      "Label for X_test[index]: mouse\n"
     ]
    }
   ],
   "source": [
    "print(f'X_test[index]: {y_test[index]}')\n",
    "print(f'Label for X_test[index]: mouse')"
   ]
  },
  {
   "cell_type": "code",
   "execution_count": 20,
   "metadata": {},
   "outputs": [
    {
     "data": {
      "text/plain": [
       "(1, 10000)"
      ]
     },
     "execution_count": 20,
     "metadata": {},
     "output_type": "execute_result"
    }
   ],
   "source": [
    "# Reshape to pass the image to the input layer of the network \n",
    "frame = X_test_flattened[index]\n",
    "frame = frame.reshape((1,10000))\n",
    "frame.shape"
   ]
  },
  {
   "cell_type": "code",
   "execution_count": 21,
   "metadata": {},
   "outputs": [
    {
     "name": "stdout",
     "output_type": "stream",
     "text": [
      "1/1 [==============================] - 0s 60ms/step\n"
     ]
    }
   ],
   "source": [
    "predict = model.predict(frame)"
   ]
  },
  {
   "cell_type": "code",
   "execution_count": 22,
   "metadata": {},
   "outputs": [
    {
     "data": {
      "text/plain": [
       "array([[0.9629744]], dtype=float32)"
      ]
     },
     "execution_count": 22,
     "metadata": {},
     "output_type": "execute_result"
    }
   ],
   "source": [
    "# value of the output node of the network \n",
    "predict"
   ]
  },
  {
   "cell_type": "code",
   "execution_count": 23,
   "metadata": {},
   "outputs": [
    {
     "name": "stdout",
     "output_type": "stream",
     "text": [
      "y predicted = 1\n",
      "Label predicted = mouse\n"
     ]
    }
   ],
   "source": [
    "label = (predict > 0.5).astype(\"int32\")\n",
    "print(f'y predicted = {label[0][0]}')\n",
    "print(f'Label predicted = mouse')"
   ]
  },
  {
   "cell_type": "markdown",
   "metadata": {},
   "source": [
    "### Confusion matrix "
   ]
  },
  {
   "cell_type": "code",
   "execution_count": 24,
   "metadata": {},
   "outputs": [
    {
     "name": "stdout",
     "output_type": "stream",
     "text": [
      "13/13 [==============================] - 0s 8ms/step\n"
     ]
    },
    {
     "data": {
      "text/plain": [
       "(400, 1)"
      ]
     },
     "execution_count": 24,
     "metadata": {},
     "output_type": "execute_result"
    }
   ],
   "source": [
    "predictTest = model.predict(X_test_flattened)\n",
    "predictTest.shape"
   ]
  },
  {
   "cell_type": "code",
   "execution_count": 25,
   "metadata": {},
   "outputs": [
    {
     "data": {
      "text/plain": [
       "(400, 1)"
      ]
     },
     "execution_count": 25,
     "metadata": {},
     "output_type": "execute_result"
    }
   ],
   "source": [
    "pred = (predictTest > 0.5).astype(\"int32\")\n",
    "pred.shape"
   ]
  },
  {
   "cell_type": "code",
   "execution_count": 26,
   "metadata": {},
   "outputs": [
    {
     "data": {
      "text/plain": [
       "<tf.Tensor: shape=(2, 2), dtype=int32, numpy=\n",
       "array([[206,   1],\n",
       "       [  0, 193]], dtype=int32)>"
      ]
     },
     "execution_count": 26,
     "metadata": {},
     "output_type": "execute_result"
    }
   ],
   "source": [
    "cm = tf.math.confusion_matrix(y_test, pred, dtype=tf.dtypes.int32)\n",
    "cm"
   ]
  },
  {
   "cell_type": "code",
   "execution_count": 27,
   "metadata": {},
   "outputs": [
    {
     "data": {
      "text/plain": [
       "<AxesSubplot:>"
      ]
     },
     "execution_count": 27,
     "metadata": {},
     "output_type": "execute_result"
    },
    {
     "data": {
      "image/png": "[encoded data removed]",
      "text/plain": [
       "<Figure size 432x288 with 2 Axes>"
      ]
     },
     "metadata": {
      "needs_background": "light"
     },
     "output_type": "display_data"
    }
   ],
   "source": [
    "sn.heatmap(cm, annot=True, annot_kws={\"size\": 16}, fmt='g') # font size"
   ]
  }
 ],
 "metadata": {
  "kernelspec": {
   "display_name": "Python 3.9.12 ('base')",
   "language": "python",
   "name": "python3"
  },
  "language_info": {
   "codemirror_mode": {
    "name": "ipython",
    "version": 3
   },
   "file_extension": ".py",
   "mimetype": "text/x-python",
   "name": "python",
   "nbconvert_exporter": "python",
   "pygments_lexer": "ipython3",
   "version": "3.9.12"
  },
  "orig_nbformat": 4,
  "vscode": {
   "interpreter": {
    "hash": "15e176b7a587bacf763a05742bf3c7db92d21fd4b7733f76dbff0ddb1181ff96"
   }
  }
 },
 "nbformat": 4,
 "nbformat_minor": 2
}
